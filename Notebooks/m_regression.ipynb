{
 "cells": [
  {
   "cell_type": "code",
   "execution_count": 1,
   "metadata": {},
   "outputs": [
    {
     "name": "stdout",
     "output_type": "stream",
     "text": [
      "File converted and saved as /Users/aerioeus/Library/CloudStorage/OneDrive-energicosGmbH/QTX Modelle/Regressionsanalyse/Regression in Excel/240421_multiple_regresssion_data.csv\n"
     ]
    }
   ],
   "source": [
    "import pandas as pd\n",
    "\n",
    "# Load the Excel file\n",
    "excel_file = '/Users/aerioeus/Library/CloudStorage/OneDrive-energicosGmbH/QTX Modelle/Regressionsanalyse/Regression in Excel/240421_multiple_regresssion_data.xlsx'  # Change this to the path of your Excel file\n",
    "sheet_name = 'Sheet1'  # Change this to your specific sheet name if different\n",
    "\n",
    "# Read the Excel file\n",
    "data = pd.read_excel(excel_file, sheet_name=sheet_name)\n",
    "\n",
    "# Save to CSV\n",
    "csv_file = '/Users/aerioeus/Library/CloudStorage/OneDrive-energicosGmbH/QTX Modelle/Regressionsanalyse/Regression in Excel/240421_multiple_regresssion_data.csv'  # Change this to your desired CSV file path\n",
    "data.to_csv(csv_file, index=False)  # Set index=False if you don't want to include the index in your CSV\n",
    "\n",
    "print(f'File converted and saved as {csv_file}')\n"
   ]
  },
  {
   "cell_type": "code",
   "execution_count": 3,
   "metadata": {},
   "outputs": [
    {
     "name": "stdout",
     "output_type": "stream",
     "text": [
      "                                 OLS Regression Results                                \n",
      "=======================================================================================\n",
      "Dep. Variable:     consumption  measured (MWh)   R-squared:                       0.956\n",
      "Model:                                     OLS   Adj. R-squared:                  0.952\n",
      "Method:                          Least Squares   F-statistic:                     231.1\n",
      "Date:                         Thu, 25 Apr 2024   Prob (F-statistic):           9.29e-22\n",
      "Time:                                 09:08:19   Log-Likelihood:                -98.995\n",
      "No. Observations:                           36   AIC:                             206.0\n",
      "Df Residuals:                               32   BIC:                             212.3\n",
      "Df Model:                                    3                                         \n",
      "Covariance Type:                     nonrobust                                         \n",
      "=============================================================================================\n",
      "                                coef    std err          t      P>|t|      [0.025      0.975]\n",
      "---------------------------------------------------------------------------------------------\n",
      "const                       -55.7984     24.389     -2.288      0.029    -105.477      -6.119\n",
      "GTZ (GT)                      0.0895      0.003     26.230      0.000       0.083       0.096\n",
      "global radiation (kWh/m2)    -0.0487      0.021     -2.299      0.028      -0.092      -0.006\n",
      "occupancy (%)                58.9338     24.496      2.406      0.022       9.037     108.830\n",
      "==============================================================================\n",
      "Omnibus:                        3.548   Durbin-Watson:                   1.817\n",
      "Prob(Omnibus):                  0.170   Jarque-Bera (JB):                2.470\n",
      "Skew:                          -0.299   Prob(JB):                        0.291\n",
      "Kurtosis:                       4.135   Cond. No.                     1.73e+04\n",
      "==============================================================================\n",
      "\n",
      "Notes:\n",
      "[1] Standard Errors assume that the covariance matrix of the errors is correctly specified.\n",
      "[2] The condition number is large, 1.73e+04. This might indicate that there are\n",
      "strong multicollinearity or other numerical problems.\n"
     ]
    }
   ],
   "source": [
    "import pandas as pd\n",
    "import statsmodels.api as sm\n",
    "\n",
    "# Load the CSV file\n",
    "csv_file = '/Users/aerioeus/Library/CloudStorage/OneDrive-energicosGmbH/QTX Modelle/Regressionsanalyse/Regression in Excel/240421_multiple_regresssion_data.csv'  # Change this to your actual CSV file path\n",
    "data = pd.read_csv(csv_file)\n",
    "\n",
    "# Define the dependent and independent variables\n",
    "Y = data.iloc[:, 0]  # First column as dependent variable\n",
    "X = data.iloc[:, 1:]  # Other columns as independent variables\n",
    "\n",
    "# Add a constant to the model (intercept)\n",
    "X = sm.add_constant(X)\n",
    "\n",
    "# Create the regression model using the Ordinary Least Squares method (OLS)\n",
    "model = sm.OLS(Y, X)\n",
    "\n",
    "# Fit the model\n",
    "results = model.fit()\n",
    "\n",
    "# Print the regression results\n",
    "print(results.summary())\n"
   ]
  }
 ],
 "metadata": {
  "kernelspec": {
   "display_name": "awspy312",
   "language": "python",
   "name": "python3"
  },
  "language_info": {
   "codemirror_mode": {
    "name": "ipython",
    "version": 3
   },
   "file_extension": ".py",
   "mimetype": "text/x-python",
   "name": "python",
   "nbconvert_exporter": "python",
   "pygments_lexer": "ipython3",
   "version": "3.12.0"
  }
 },
 "nbformat": 4,
 "nbformat_minor": 2
}
